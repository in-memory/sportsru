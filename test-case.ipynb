{
 "cells": [
  {
   "cell_type": "markdown",
   "metadata": {},
   "source": [
    "### Загрузка данных\n",
    "\n",
    "Подключим pandas и загрузим файлы с данными"
   ]
  },
  {
   "cell_type": "code",
   "execution_count": 1,
   "metadata": {
    "collapsed": true
   },
   "outputs": [],
   "source": [
    "import pandas as pd"
   ]
  },
  {
   "cell_type": "code",
   "execution_count": 40,
   "metadata": {
    "collapsed": false
   },
   "outputs": [
    {
     "data": {
      "text/html": [
       "<div>\n",
       "<table border=\"1\" class=\"dataframe\">\n",
       "  <thead>\n",
       "    <tr style=\"text-align: right;\">\n",
       "      <th></th>\n",
       "      <th>tracking_id</th>\n",
       "      <th>click_id</th>\n",
       "      <th>install_datetime</th>\n",
       "      <th>os_version</th>\n",
       "      <th>device_manufacturer</th>\n",
       "      <th>device_model</th>\n",
       "      <th>device_type</th>\n",
       "      <th>device_locale</th>\n",
       "      <th>revenue</th>\n",
       "    </tr>\n",
       "  </thead>\n",
       "  <tbody>\n",
       "    <tr>\n",
       "      <th>0</th>\n",
       "      <td>1033522010023579020</td>\n",
       "      <td>22817403-1473193873-1098301704</td>\n",
       "      <td>2016-09-06 23:51:28</td>\n",
       "      <td>4.2.2</td>\n",
       "      <td>Lenovo</td>\n",
       "      <td>Lenovo A316i</td>\n",
       "      <td>phone</td>\n",
       "      <td>ru-RU</td>\n",
       "      <td>1.662699</td>\n",
       "    </tr>\n",
       "    <tr>\n",
       "      <th>1</th>\n",
       "      <td>1033522010023579020</td>\n",
       "      <td>22817403-1473195092-622681650</td>\n",
       "      <td>2016-09-07 00:11:19</td>\n",
       "      <td>5.0.2</td>\n",
       "      <td>Samsung</td>\n",
       "      <td>Galaxy A3</td>\n",
       "      <td>phone</td>\n",
       "      <td>ru-RU</td>\n",
       "      <td>1.863439</td>\n",
       "    </tr>\n",
       "    <tr>\n",
       "      <th>2</th>\n",
       "      <td>1033522010023579020</td>\n",
       "      <td>22817403-1473189457-258078900</td>\n",
       "      <td>2016-09-06 22:18:50</td>\n",
       "      <td>4.4.2</td>\n",
       "      <td>HTC</td>\n",
       "      <td>HTC Desire 601</td>\n",
       "      <td>phone</td>\n",
       "      <td>ru-RU</td>\n",
       "      <td>1.520538</td>\n",
       "    </tr>\n",
       "    <tr>\n",
       "      <th>3</th>\n",
       "      <td>1033522010023579020</td>\n",
       "      <td>22817403-1473192316-1183289285</td>\n",
       "      <td>2016-09-06 23:06:59</td>\n",
       "      <td>6.0</td>\n",
       "      <td>Huawei</td>\n",
       "      <td>CHM-U01</td>\n",
       "      <td>phone</td>\n",
       "      <td>ru-RU</td>\n",
       "      <td>1.781050</td>\n",
       "    </tr>\n",
       "    <tr>\n",
       "      <th>4</th>\n",
       "      <td>1033522010023579020</td>\n",
       "      <td>22817403-1473188854-1249048763</td>\n",
       "      <td>2016-09-06 22:20:11</td>\n",
       "      <td>4.4.2</td>\n",
       "      <td>Samsung</td>\n",
       "      <td>Galaxy S4 Mini</td>\n",
       "      <td>phone</td>\n",
       "      <td>ru-RU</td>\n",
       "      <td>1.669396</td>\n",
       "    </tr>\n",
       "  </tbody>\n",
       "</table>\n",
       "</div>"
      ],
      "text/plain": [
       "           tracking_id                        click_id     install_datetime  \\\n",
       "0  1033522010023579020  22817403-1473193873-1098301704  2016-09-06 23:51:28   \n",
       "1  1033522010023579020   22817403-1473195092-622681650  2016-09-07 00:11:19   \n",
       "2  1033522010023579020   22817403-1473189457-258078900  2016-09-06 22:18:50   \n",
       "3  1033522010023579020  22817403-1473192316-1183289285  2016-09-06 23:06:59   \n",
       "4  1033522010023579020  22817403-1473188854-1249048763  2016-09-06 22:20:11   \n",
       "\n",
       "  os_version device_manufacturer    device_model device_type device_locale  \\\n",
       "0      4.2.2              Lenovo    Lenovo A316i       phone         ru-RU   \n",
       "1      5.0.2             Samsung       Galaxy A3       phone         ru-RU   \n",
       "2      4.4.2                 HTC  HTC Desire 601       phone         ru-RU   \n",
       "3        6.0              Huawei         CHM-U01       phone         ru-RU   \n",
       "4      4.4.2             Samsung  Galaxy S4 Mini       phone         ru-RU   \n",
       "\n",
       "    revenue  \n",
       "0  1.662699  \n",
       "1  1.863439  \n",
       "2  1.520538  \n",
       "3  1.781050  \n",
       "4  1.669396  "
      ]
     },
     "execution_count": 40,
     "metadata": {},
     "output_type": "execute_result"
    }
   ],
   "source": [
    "app_users = pd.read_csv('app_users.csv')\n",
    "app_users.head()"
   ]
  },
  {
   "cell_type": "code",
   "execution_count": 41,
   "metadata": {
    "collapsed": false
   },
   "outputs": [
    {
     "data": {
      "text/html": [
       "<div>\n",
       "<table border=\"1\" class=\"dataframe\">\n",
       "  <thead>\n",
       "    <tr style=\"text-align: right;\">\n",
       "      <th></th>\n",
       "      <th>tracking_id</th>\n",
       "      <th>click_id</th>\n",
       "      <th>click_datetime</th>\n",
       "      <th>CPI</th>\n",
       "    </tr>\n",
       "  </thead>\n",
       "  <tbody>\n",
       "    <tr>\n",
       "      <th>0</th>\n",
       "      <td>1033522010023579020</td>\n",
       "      <td>22817403-1473191644-1641538988</td>\n",
       "      <td>2016-09-06 22:54:04</td>\n",
       "      <td>0.786682</td>\n",
       "    </tr>\n",
       "    <tr>\n",
       "      <th>1</th>\n",
       "      <td>1033522010023579020</td>\n",
       "      <td>22817403-1473191680-501021762</td>\n",
       "      <td>2016-09-06 22:54:40</td>\n",
       "      <td>0.786682</td>\n",
       "    </tr>\n",
       "    <tr>\n",
       "      <th>2</th>\n",
       "      <td>1033522010023579020</td>\n",
       "      <td>22817403-1473193873-1098301704</td>\n",
       "      <td>2016-09-06 23:31:13</td>\n",
       "      <td>0.786682</td>\n",
       "    </tr>\n",
       "    <tr>\n",
       "      <th>3</th>\n",
       "      <td>1033522010023579020</td>\n",
       "      <td>22817403-1473195092-622681650</td>\n",
       "      <td>2016-09-06 23:51:32</td>\n",
       "      <td>0.786682</td>\n",
       "    </tr>\n",
       "    <tr>\n",
       "      <th>4</th>\n",
       "      <td>1033522010023579020</td>\n",
       "      <td>22817403-1473189457-258078900</td>\n",
       "      <td>2016-09-06 22:17:37</td>\n",
       "      <td>0.786682</td>\n",
       "    </tr>\n",
       "  </tbody>\n",
       "</table>\n",
       "</div>"
      ],
      "text/plain": [
       "           tracking_id                        click_id       click_datetime  \\\n",
       "0  1033522010023579020  22817403-1473191644-1641538988  2016-09-06 22:54:04   \n",
       "1  1033522010023579020   22817403-1473191680-501021762  2016-09-06 22:54:40   \n",
       "2  1033522010023579020  22817403-1473193873-1098301704  2016-09-06 23:31:13   \n",
       "3  1033522010023579020   22817403-1473195092-622681650  2016-09-06 23:51:32   \n",
       "4  1033522010023579020   22817403-1473189457-258078900  2016-09-06 22:17:37   \n",
       "\n",
       "        CPI  \n",
       "0  0.786682  \n",
       "1  0.786682  \n",
       "2  0.786682  \n",
       "3  0.786682  \n",
       "4  0.786682  "
      ]
     },
     "execution_count": 41,
     "metadata": {},
     "output_type": "execute_result"
    }
   ],
   "source": [
    "clicks = pd.read_csv('clicks.csv')\n",
    "clicks.head()"
   ]
  },
  {
   "cell_type": "markdown",
   "metadata": {},
   "source": [
    "Выведем сколько всего было различных компаний и увидим, что 6"
   ]
  },
  {
   "cell_type": "code",
   "execution_count": 26,
   "metadata": {
    "collapsed": false
   },
   "outputs": [
    {
     "name": "stdout",
     "output_type": "stream",
     "text": [
      "[457095801521389451, 457100182639649595, 529165038158632239, 817383831807028900, 1033522010023579020, 1105628863007835516]\n",
      "[457095801521389451, 457100182639649595, 529165038158632239, 817383831807028900, 1033522010023579020, 1105628863007835516]\n"
     ]
    }
   ],
   "source": [
    "print(sorted(clicks.tracking_id.unique()))\n",
    "print(sorted(app_users.tracking_id.unique()))"
   ]
  },
  {
   "cell_type": "markdown",
   "metadata": {},
   "source": [
    "Пронумеруем кампании для удобства"
   ]
  },
  {
   "cell_type": "code",
   "execution_count": 45,
   "metadata": {
    "collapsed": true
   },
   "outputs": [],
   "source": [
    "ref = {457095801521389451: 'c1', \n",
    "       457100182639649595: 'c2', \n",
    "       529165038158632239: 'c3', \n",
    "       817383831807028900: 'c4', \n",
    "       1033522010023579020: 'c5', \n",
    "       1105628863007835516: 'c6'}\n",
    "clicks['campaign'] = clicks.tracking_id.map(lambda x: ref[x])\n",
    "app_users['campaign'] = app_users.tracking_id.map(lambda x: ref[x])"
   ]
  },
  {
   "cell_type": "markdown",
   "metadata": {},
   "source": [
    "Посчитаем охват и суммарные инсталлы для каждой из кампаний"
   ]
  },
  {
   "cell_type": "code",
   "execution_count": 71,
   "metadata": {
    "collapsed": false
   },
   "outputs": [],
   "source": [
    "coverage = clicks.groupby('campaign').click_id.count().sort_values()\n",
    "installs = app_users.groupby('campaign').install_datetime.count().sort_values()"
   ]
  },
  {
   "cell_type": "markdown",
   "metadata": {},
   "source": [
    "Рассчитаем конверсию"
   ]
  },
  {
   "cell_type": "code",
   "execution_count": 72,
   "metadata": {
    "collapsed": false
   },
   "outputs": [
    {
     "data": {
      "text/html": [
       "<div>\n",
       "<table border=\"1\" class=\"dataframe\">\n",
       "  <thead>\n",
       "    <tr style=\"text-align: right;\">\n",
       "      <th></th>\n",
       "      <th>coverage</th>\n",
       "      <th>installs</th>\n",
       "      <th>conversion</th>\n",
       "    </tr>\n",
       "    <tr>\n",
       "      <th>campaign</th>\n",
       "      <th></th>\n",
       "      <th></th>\n",
       "      <th></th>\n",
       "    </tr>\n",
       "  </thead>\n",
       "  <tbody>\n",
       "    <tr>\n",
       "      <th>c6</th>\n",
       "      <td>695</td>\n",
       "      <td>81</td>\n",
       "      <td>0.116547</td>\n",
       "    </tr>\n",
       "    <tr>\n",
       "      <th>c3</th>\n",
       "      <td>4461</td>\n",
       "      <td>535</td>\n",
       "      <td>0.119928</td>\n",
       "    </tr>\n",
       "    <tr>\n",
       "      <th>c4</th>\n",
       "      <td>5106</td>\n",
       "      <td>554</td>\n",
       "      <td>0.108500</td>\n",
       "    </tr>\n",
       "    <tr>\n",
       "      <th>c1</th>\n",
       "      <td>7836</td>\n",
       "      <td>618</td>\n",
       "      <td>0.078867</td>\n",
       "    </tr>\n",
       "    <tr>\n",
       "      <th>c2</th>\n",
       "      <td>11918</td>\n",
       "      <td>1047</td>\n",
       "      <td>0.087850</td>\n",
       "    </tr>\n",
       "    <tr>\n",
       "      <th>c5</th>\n",
       "      <td>51681</td>\n",
       "      <td>6788</td>\n",
       "      <td>0.131344</td>\n",
       "    </tr>\n",
       "  </tbody>\n",
       "</table>\n",
       "</div>"
      ],
      "text/plain": [
       "          coverage  installs  conversion\n",
       "campaign                                \n",
       "c6             695        81    0.116547\n",
       "c3            4461       535    0.119928\n",
       "c4            5106       554    0.108500\n",
       "c1            7836       618    0.078867\n",
       "c2           11918      1047    0.087850\n",
       "c5           51681      6788    0.131344"
      ]
     },
     "execution_count": 72,
     "metadata": {},
     "output_type": "execute_result"
    }
   ],
   "source": [
    "conv = pd.concat([coverage, installs], axis=1)\n",
    "conv.columns = ['coverage', 'installs']\n",
    "conv['conversion'] = conv.installs.div(conv.coverage)\n",
    "conv.head(6)"
   ]
  },
  {
   "cell_type": "markdown",
   "metadata": {},
   "source": [
    "Рассчитаем суммарную выручку и суммарные косты за клики"
   ]
  },
  {
   "cell_type": "code",
   "execution_count": 60,
   "metadata": {
    "collapsed": false
   },
   "outputs": [],
   "source": [
    "rev = app_users.groupby('campaign').revenue.sum()\n",
    "cpi = clicks.groupby('campaign').CPI.sum()"
   ]
  },
  {
   "cell_type": "code",
   "execution_count": 74,
   "metadata": {
    "collapsed": false
   },
   "outputs": [],
   "source": [
    "df = pd.concat([conv, rev, cpi], axis=1)\n",
    "df.columns = ['coverage', 'installs', 'conversion', 'total_revenue', 'total_cpi']"
   ]
  },
  {
   "cell_type": "markdown",
   "metadata": {},
   "source": [
    "Рассчитаем ROI для каждой из кампаний"
   ]
  },
  {
   "cell_type": "code",
   "execution_count": 78,
   "metadata": {
    "collapsed": false
   },
   "outputs": [
    {
     "data": {
      "text/html": [
       "<div>\n",
       "<table border=\"1\" class=\"dataframe\">\n",
       "  <thead>\n",
       "    <tr style=\"text-align: right;\">\n",
       "      <th></th>\n",
       "      <th>coverage</th>\n",
       "      <th>installs</th>\n",
       "      <th>conversion</th>\n",
       "      <th>total_revenue</th>\n",
       "      <th>total_cpi</th>\n",
       "      <th>roi</th>\n",
       "    </tr>\n",
       "  </thead>\n",
       "  <tbody>\n",
       "    <tr>\n",
       "      <th>c1</th>\n",
       "      <td>7836</td>\n",
       "      <td>618</td>\n",
       "      <td>0.078867</td>\n",
       "      <td>962.088388</td>\n",
       "      <td>5143.797011</td>\n",
       "      <td>0.187039</td>\n",
       "    </tr>\n",
       "    <tr>\n",
       "      <th>c3</th>\n",
       "      <td>4461</td>\n",
       "      <td>535</td>\n",
       "      <td>0.119928</td>\n",
       "      <td>829.185564</td>\n",
       "      <td>3691.276970</td>\n",
       "      <td>0.224634</td>\n",
       "    </tr>\n",
       "    <tr>\n",
       "      <th>c5</th>\n",
       "      <td>51681</td>\n",
       "      <td>6788</td>\n",
       "      <td>0.131344</td>\n",
       "      <td>10516.624754</td>\n",
       "      <td>40656.499384</td>\n",
       "      <td>0.258670</td>\n",
       "    </tr>\n",
       "    <tr>\n",
       "      <th>c2</th>\n",
       "      <td>11918</td>\n",
       "      <td>1047</td>\n",
       "      <td>0.087850</td>\n",
       "      <td>1623.083851</td>\n",
       "      <td>6046.307733</td>\n",
       "      <td>0.268442</td>\n",
       "    </tr>\n",
       "    <tr>\n",
       "      <th>c4</th>\n",
       "      <td>5106</td>\n",
       "      <td>554</td>\n",
       "      <td>0.108500</td>\n",
       "      <td>855.027816</td>\n",
       "      <td>3137.636289</td>\n",
       "      <td>0.272507</td>\n",
       "    </tr>\n",
       "    <tr>\n",
       "      <th>c6</th>\n",
       "      <td>695</td>\n",
       "      <td>81</td>\n",
       "      <td>0.116547</td>\n",
       "      <td>123.641566</td>\n",
       "      <td>453.357454</td>\n",
       "      <td>0.272724</td>\n",
       "    </tr>\n",
       "  </tbody>\n",
       "</table>\n",
       "</div>"
      ],
      "text/plain": [
       "    coverage  installs  conversion  total_revenue     total_cpi       roi\n",
       "c1      7836       618    0.078867     962.088388   5143.797011  0.187039\n",
       "c3      4461       535    0.119928     829.185564   3691.276970  0.224634\n",
       "c5     51681      6788    0.131344   10516.624754  40656.499384  0.258670\n",
       "c2     11918      1047    0.087850    1623.083851   6046.307733  0.268442\n",
       "c4      5106       554    0.108500     855.027816   3137.636289  0.272507\n",
       "c6       695        81    0.116547     123.641566    453.357454  0.272724"
      ]
     },
     "execution_count": 78,
     "metadata": {},
     "output_type": "execute_result"
    }
   ],
   "source": [
    "df['roi'] = df.total_revenue.div(df.total_cpi)\n",
    "df.sort_values(by=['roi', 'conversion', 'coverage']).head(6)"
   ]
  },
  {
   "cell_type": "markdown",
   "metadata": {},
   "source": [
    "#### Выводы\n",
    "\n",
    "Основными параметрами оценки маркетинговых кампаний можно считать: охват, конверсию, общую выручку и ROI.\n",
    "По этим параметрам наиболее эффективной можно считать кампанию 5 (1033522010023579020). \n",
    " * охват максимальный, на порядок больше, чем у остальных кампаний\n",
    " * конверсия также наибольшая из шести кампаний\n",
    " * ROI чуть меньше, чем у кампаний 2, 4, 6, но в пределах 1,5%\n",
    " * общая выручка тоже максимальна с учетом трех предыдущих пунктов"
   ]
  }
 ],
 "metadata": {
  "anaconda-cloud": {},
  "kernelspec": {
   "display_name": "Python [Root]",
   "language": "python",
   "name": "Python [Root]"
  },
  "language_info": {
   "codemirror_mode": {
    "name": "ipython",
    "version": 3
   },
   "file_extension": ".py",
   "mimetype": "text/x-python",
   "name": "python",
   "nbconvert_exporter": "python",
   "pygments_lexer": "ipython3",
   "version": "3.5.2"
  }
 },
 "nbformat": 4,
 "nbformat_minor": 0
}
